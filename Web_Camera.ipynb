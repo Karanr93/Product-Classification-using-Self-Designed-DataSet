{
 "cells": [
  {
   "cell_type": "code",
   "execution_count": 1,
   "metadata": {},
   "outputs": [
    {
     "name": "stderr",
     "output_type": "stream",
     "text": [
      "Using TensorFlow backend.\n",
      "/Users/adityasharma/blog/lib/python3.7/importlib/_bootstrap.py:219: RuntimeWarning: compiletime version 3.6 of module 'tensorflow.python.framework.fast_tensor_util' does not match runtime version 3.7\n",
      "  return f(*args, **kwds)\n"
     ]
    },
    {
     "name": "stdout",
     "output_type": "stream",
     "text": [
      "WARNING:tensorflow:From /Users/adityasharma/blog/lib/python3.7/site-packages/tensorflow/contrib/learn/python/learn/datasets/base.py:198: retry (from tensorflow.contrib.learn.python.learn.datasets.base) is deprecated and will be removed in a future version.\n",
      "Instructions for updating:\n",
      "Use the retry module or similar alternatives.\n"
     ]
    }
   ],
   "source": [
    "import cv2\n",
    "import numpy as np\n",
    "import os\n",
    "import sys\n",
    "import threading\n",
    "from keras import models"
   ]
  },
  {
   "cell_type": "code",
   "execution_count": null,
   "metadata": {},
   "outputs": [
    {
     "name": "stdout",
     "output_type": "stream",
     "text": [
      "Camera OK\n",
      "Loading Model\n",
      "WARNING:tensorflow:From /Users/adityasharma/blog/lib/python3.7/site-packages/keras/backend/tensorflow_backend.py:1168: calling reduce_prod (from tensorflow.python.ops.math_ops) with keep_dims is deprecated and will be removed in a future version.\n",
      "Instructions for updating:\n",
      "keep_dims is deprecated, use keepdims instead\n",
      "WARNING:tensorflow:From /Users/adityasharma/blog/lib/python3.7/site-packages/keras/backend/tensorflow_backend.py:2704: calling reduce_sum (from tensorflow.python.ops.math_ops) with keep_dims is deprecated and will be removed in a future version.\n",
      "Instructions for updating:\n",
      "keep_dims is deprecated, use keepdims instead\n",
      "WARNING:tensorflow:From /Users/adityasharma/blog/lib/python3.7/site-packages/keras/backend/tensorflow_backend.py:1257: calling reduce_mean (from tensorflow.python.ops.math_ops) with keep_dims is deprecated and will be removed in a future version.\n",
      "Instructions for updating:\n",
      "keep_dims is deprecated, use keepdims instead\n",
      "Model Loaded Successfully\n"
     ]
    }
   ],
   "source": [
    "label = ''\n",
    "frame = None\n",
    "\n",
    "num_to_label = {0:'ThumbsUp Can',1:'Mirinda Bottle',2:'Tide Packet',3:'Coke Can'}\n",
    "\n",
    "\n",
    "def preprocess(img):\n",
    "    img = (img - np.mean(img)) / np.std(img)\n",
    "    return img\n",
    "\n",
    "\n",
    "\n",
    "class MyThread(threading.Thread):\n",
    "    def __init__(self):\n",
    "        threading.Thread.__init__(self)\n",
    "\n",
    "    def run(self):\n",
    "        global label\n",
    "        print(\"Loading Model\")\n",
    "        self.model = models.load_model('weight_file.h5')\n",
    "        print(\"Model Loaded Successfully\")\n",
    "\n",
    "        while (~(frame is None)):\n",
    "            label = self.predict(frame)\n",
    "\n",
    "    def predict(self, frame):\n",
    "        image = cv2.cvtColor(frame, cv2.COLOR_BGR2RGB).astype(np.float32)\n",
    "        image = preprocess(image)\n",
    "        image = image.reshape(-1,224,224,3)\n",
    "        pred = np.argmax(self.model.predict(image),axis=1)\n",
    "        label = [num_to_label[item] for item in pred]\n",
    "        label = \"\".join(label)\n",
    "        return label\n",
    "\n",
    "cap = cv2.VideoCapture(0)\n",
    "if (cap.isOpened()):\n",
    "    print(\"Camera OK\")\n",
    "else:\n",
    "    cap.open()\n",
    "\n",
    "keras_thread = MyThread()\n",
    "keras_thread.start()\n",
    "\n",
    "while (True):\n",
    "    ret, original = cap.read()\n",
    "\n",
    "    frame = cv2.resize(original, (224, 224))\n",
    "\n",
    "    cv2.putText(original, \"PRODUCT LABEL : {}\".format(label), (500, 100), cv2.FONT_HERSHEY_SIMPLEX, 0.9, (0, 0, 255), 4)\n",
    "    cv2.imshow(\"Product Classification\", original)\n",
    "\n",
    "    if (cv2.waitKey(1) & 0xFF == ord('q')):\n",
    "        break;\n",
    "\n",
    "cap.release()\n",
    "frame = None\n",
    "cv2.destroyAllWindows()\n",
    "sys.exit()"
   ]
  },
  {
   "cell_type": "code",
   "execution_count": null,
   "metadata": {},
   "outputs": [],
   "source": []
  }
 ],
 "metadata": {
  "kernelspec": {
   "display_name": "Python 3",
   "language": "python",
   "name": "python3"
  },
  "language_info": {
   "codemirror_mode": {
    "name": "ipython",
    "version": 3
   },
   "file_extension": ".py",
   "mimetype": "text/x-python",
   "name": "python",
   "nbconvert_exporter": "python",
   "pygments_lexer": "ipython3",
   "version": "3.7.1"
  }
 },
 "nbformat": 4,
 "nbformat_minor": 2
}
